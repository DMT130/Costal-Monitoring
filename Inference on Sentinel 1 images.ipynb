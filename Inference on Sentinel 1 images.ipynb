{
  "cells": [
    {
      "cell_type": "code",
      "execution_count": null,
      "metadata": {
        "id": "Ztc1HnVBJNtb"
      },
      "outputs": [],
      "source": [
        "import os\n",
        "import gdal\n",
        "import numpy as np\n",
        "import matplotlib.pyplot as plt\n",
        "from datetime import date\n",
        "import skimage.transform as st \n",
        "%matplotlib inline"
      ]
    },
    {
      "cell_type": "code",
      "execution_count": null,
      "metadata": {
        "id": "YtGP8c6vewEF"
      },
      "outputs": [],
      "source": [
        "import PIL\n",
        "from PIL import Image\n",
        "from matplotlib import cm"
      ]
    },
    {
      "cell_type": "code",
      "execution_count": null,
      "metadata": {
        "id": "nuW6Oy_g-vHC"
      },
      "outputs": [],
      "source": [
        "import cv2\n",
        "import time\n",
        "import zipfile\n",
        "import datetime"
      ]
    },
    {
      "cell_type": "code",
      "execution_count": null,
      "metadata": {
        "id": "VCj98p-g9NlF"
      },
      "outputs": [],
      "source": [
        "from pathlib import Path"
      ]
    },
    {
      "cell_type": "code",
      "execution_count": null,
      "metadata": {
        "id": "xKLcqtO7tkvK"
      },
      "outputs": [],
      "source": [
        "#from rasterio.plot import show\n",
        "#from rasterio.merge import merge\n",
        "#import rasterio as rio"
      ]
    },
    {
      "cell_type": "code",
      "execution_count": null,
      "metadata": {
        "id": "MFpTdQopBp5S"
      },
      "outputs": [],
      "source": [
        "#pip install xarray-spatial"
      ]
    },
    {
      "cell_type": "code",
      "execution_count": null,
      "metadata": {
        "id": "Z-iJT_rLtWPM"
      },
      "outputs": [],
      "source": [
        "#pip install rasterio"
      ]
    },
    {
      "cell_type": "code",
      "execution_count": null,
      "metadata": {
        "colab": {
          "base_uri": "https://localhost:8080/"
        },
        "id": "Bi-dDSGscNFg",
        "outputId": "88940889-a69c-4dff-9b13-36fa92da475a"
      },
      "outputs": [
        {
          "name": "stdout",
          "output_type": "stream",
          "text": [
            "Looking in indexes: https://pypi.org/simple, https://us-python.pkg.dev/colab-wheels/public/simple/\n",
            "Collecting geopandas\n",
            "  Downloading geopandas-0.10.2-py2.py3-none-any.whl (1.0 MB)\n",
            "\u001b[K     |████████████████████████████████| 1.0 MB 14.8 MB/s \n",
            "\u001b[?25hRequirement already satisfied: pandas>=0.25.0 in /usr/local/lib/python3.7/dist-packages (from geopandas) (1.3.5)\n",
            "Collecting fiona>=1.8\n",
            "  Downloading Fiona-1.8.21-cp37-cp37m-manylinux2014_x86_64.whl (16.7 MB)\n",
            "\u001b[K     |████████████████████████████████| 16.7 MB 57.1 MB/s \n",
            "\u001b[?25hRequirement already satisfied: shapely>=1.6 in /usr/local/lib/python3.7/dist-packages (from geopandas) (1.8.4)\n",
            "Collecting pyproj>=2.2.0\n",
            "  Downloading pyproj-3.2.1-cp37-cp37m-manylinux2010_x86_64.whl (6.3 MB)\n",
            "\u001b[K     |████████████████████████████████| 6.3 MB 50.0 MB/s \n",
            "\u001b[?25hRequirement already satisfied: attrs>=17 in /usr/local/lib/python3.7/dist-packages (from fiona>=1.8->geopandas) (22.1.0)\n",
            "Collecting munch\n",
            "  Downloading munch-2.5.0-py2.py3-none-any.whl (10 kB)\n",
            "Requirement already satisfied: six>=1.7 in /usr/local/lib/python3.7/dist-packages (from fiona>=1.8->geopandas) (1.15.0)\n",
            "Requirement already satisfied: setuptools in /usr/local/lib/python3.7/dist-packages (from fiona>=1.8->geopandas) (57.4.0)\n",
            "Requirement already satisfied: click>=4.0 in /usr/local/lib/python3.7/dist-packages (from fiona>=1.8->geopandas) (7.1.2)\n",
            "Collecting cligj>=0.5\n",
            "  Downloading cligj-0.7.2-py3-none-any.whl (7.1 kB)\n",
            "Collecting click-plugins>=1.0\n",
            "  Downloading click_plugins-1.1.1-py2.py3-none-any.whl (7.5 kB)\n",
            "Requirement already satisfied: certifi in /usr/local/lib/python3.7/dist-packages (from fiona>=1.8->geopandas) (2022.9.24)\n",
            "Requirement already satisfied: python-dateutil>=2.7.3 in /usr/local/lib/python3.7/dist-packages (from pandas>=0.25.0->geopandas) (2.8.2)\n",
            "Requirement already satisfied: pytz>=2017.3 in /usr/local/lib/python3.7/dist-packages (from pandas>=0.25.0->geopandas) (2022.4)\n",
            "Requirement already satisfied: numpy>=1.17.3 in /usr/local/lib/python3.7/dist-packages (from pandas>=0.25.0->geopandas) (1.21.6)\n",
            "Installing collected packages: munch, cligj, click-plugins, pyproj, fiona, geopandas\n",
            "Successfully installed click-plugins-1.1.1 cligj-0.7.2 fiona-1.8.21 geopandas-0.10.2 munch-2.5.0 pyproj-3.2.1\n"
          ]
        }
      ],
      "source": [
        "pip install geopandas"
      ]
    },
    {
      "cell_type": "code",
      "execution_count": null,
      "metadata": {
        "colab": {
          "base_uri": "https://localhost:8080/"
        },
        "id": "J6XJld5WJcC7",
        "outputId": "7017f66f-4bbd-4c87-8bbe-26077dca5c96"
      },
      "outputs": [
        {
          "name": "stdout",
          "output_type": "stream",
          "text": [
            "Looking in indexes: https://pypi.org/simple, https://us-python.pkg.dev/colab-wheels/public/simple/\n",
            "Collecting asf_search\n",
            "  Downloading asf_search-5.1.2-py3-none-any.whl (51 kB)\n",
            "\u001b[K     |████████████████████████████████| 51 kB 304 kB/s \n",
            "\u001b[?25hRequirement already satisfied: shapely in /usr/local/lib/python3.7/dist-packages (from asf_search) (1.8.4)\n",
            "Requirement already satisfied: numpy in /usr/local/lib/python3.7/dist-packages (from asf_search) (1.21.6)\n",
            "Requirement already satisfied: jinja2 in /usr/local/lib/python3.7/dist-packages (from asf_search) (2.11.3)\n",
            "Requirement already satisfied: importlib-metadata in /usr/local/lib/python3.7/dist-packages (from asf_search) (5.0.0)\n",
            "Collecting dateparser\n",
            "  Downloading dateparser-1.1.1-py2.py3-none-any.whl (288 kB)\n",
            "\u001b[K     |████████████████████████████████| 288 kB 23.4 MB/s \n",
            "\u001b[?25hRequirement already satisfied: requests in /usr/local/lib/python3.7/dist-packages (from asf_search) (2.23.0)\n",
            "Requirement already satisfied: pytz in /usr/local/lib/python3.7/dist-packages (from asf_search) (2022.4)\n",
            "Requirement already satisfied: python-dateutil in /usr/local/lib/python3.7/dist-packages (from asf_search) (2.8.2)\n",
            "Requirement already satisfied: tzlocal in /usr/local/lib/python3.7/dist-packages (from dateparser->asf_search) (1.5.1)\n",
            "Collecting regex!=2019.02.19,!=2021.8.27,<2022.3.15\n",
            "  Downloading regex-2022.3.2-cp37-cp37m-manylinux_2_17_x86_64.manylinux2014_x86_64.whl (749 kB)\n",
            "\u001b[K     |████████████████████████████████| 749 kB 34.7 MB/s \n",
            "\u001b[?25hRequirement already satisfied: zipp>=0.5 in /usr/local/lib/python3.7/dist-packages (from importlib-metadata->asf_search) (3.9.0)\n",
            "Requirement already satisfied: typing-extensions>=3.6.4 in /usr/local/lib/python3.7/dist-packages (from importlib-metadata->asf_search) (4.1.1)\n",
            "Requirement already satisfied: MarkupSafe>=0.23 in /usr/local/lib/python3.7/dist-packages (from jinja2->asf_search) (2.0.1)\n",
            "Requirement already satisfied: six>=1.5 in /usr/local/lib/python3.7/dist-packages (from python-dateutil->asf_search) (1.15.0)\n",
            "Requirement already satisfied: certifi>=2017.4.17 in /usr/local/lib/python3.7/dist-packages (from requests->asf_search) (2022.9.24)\n",
            "Requirement already satisfied: idna<3,>=2.5 in /usr/local/lib/python3.7/dist-packages (from requests->asf_search) (2.10)\n",
            "Requirement already satisfied: urllib3!=1.25.0,!=1.25.1,<1.26,>=1.21.1 in /usr/local/lib/python3.7/dist-packages (from requests->asf_search) (1.24.3)\n",
            "Requirement already satisfied: chardet<4,>=3.0.2 in /usr/local/lib/python3.7/dist-packages (from requests->asf_search) (3.0.4)\n",
            "Installing collected packages: regex, dateparser, asf-search\n",
            "  Attempting uninstall: regex\n",
            "    Found existing installation: regex 2022.6.2\n",
            "    Uninstalling regex-2022.6.2:\n",
            "      Successfully uninstalled regex-2022.6.2\n",
            "Successfully installed asf-search-5.1.2 dateparser-1.1.1 regex-2022.3.2\n"
          ]
        }
      ],
      "source": [
        "pip install asf_search"
      ]
    },
    {
      "cell_type": "code",
      "execution_count": null,
      "metadata": {
        "colab": {
          "base_uri": "https://localhost:8080/"
        },
        "id": "PJhx2tvR4E9W",
        "outputId": "88f4daaa-b0db-4e70-ff33-c50a9a43908d"
      },
      "outputs": [
        {
          "name": "stdout",
          "output_type": "stream",
          "text": [
            "Looking in indexes: https://pypi.org/simple, https://us-python.pkg.dev/colab-wheels/public/simple/\n",
            "Collecting mapclassify\n",
            "  Downloading mapclassify-2.4.3-py3-none-any.whl (38 kB)\n",
            "Requirement already satisfied: scikit-learn in /usr/local/lib/python3.7/dist-packages (from mapclassify) (1.0.2)\n",
            "Requirement already satisfied: networkx in /usr/local/lib/python3.7/dist-packages (from mapclassify) (2.6.3)\n",
            "Requirement already satisfied: scipy>=1.0 in /usr/local/lib/python3.7/dist-packages (from mapclassify) (1.7.3)\n",
            "Requirement already satisfied: numpy>=1.3 in /usr/local/lib/python3.7/dist-packages (from mapclassify) (1.21.6)\n",
            "Requirement already satisfied: pandas>=1.0 in /usr/local/lib/python3.7/dist-packages (from mapclassify) (1.3.5)\n",
            "Requirement already satisfied: python-dateutil>=2.7.3 in /usr/local/lib/python3.7/dist-packages (from pandas>=1.0->mapclassify) (2.8.2)\n",
            "Requirement already satisfied: pytz>=2017.3 in /usr/local/lib/python3.7/dist-packages (from pandas>=1.0->mapclassify) (2022.4)\n",
            "Requirement already satisfied: six>=1.5 in /usr/local/lib/python3.7/dist-packages (from python-dateutil>=2.7.3->pandas>=1.0->mapclassify) (1.15.0)\n",
            "Requirement already satisfied: threadpoolctl>=2.0.0 in /usr/local/lib/python3.7/dist-packages (from scikit-learn->mapclassify) (3.1.0)\n",
            "Requirement already satisfied: joblib>=0.11 in /usr/local/lib/python3.7/dist-packages (from scikit-learn->mapclassify) (1.2.0)\n",
            "Installing collected packages: mapclassify\n",
            "Successfully installed mapclassify-2.4.3\n"
          ]
        }
      ],
      "source": [
        "pip install mapclassify"
      ]
    },
    {
      "cell_type": "code",
      "execution_count": null,
      "metadata": {
        "id": "8ybQ0mLe7qw3"
      },
      "outputs": [],
      "source": [
        "import geopandas as gpd\n",
        "import pandas as pd\n",
        "from shapely.geometry import Polygon\n",
        "import os"
      ]
    },
    {
      "cell_type": "code",
      "execution_count": null,
      "metadata": {
        "id": "SET8L2fszrZz"
      },
      "outputs": [],
      "source": [
        "#pip install rasterio"
      ]
    },
    {
      "cell_type": "code",
      "execution_count": null,
      "metadata": {
        "id": "mDePBTttKlBT"
      },
      "outputs": [],
      "source": [
        "import asf_search as asf"
      ]
    },
    {
      "cell_type": "code",
      "execution_count": null,
      "metadata": {
        "id": "kvt0nRmM5k1w"
      },
      "outputs": [],
      "source": [
        "basepath = !pwd"
      ]
    },
    {
      "cell_type": "code",
      "execution_count": null,
      "metadata": {
        "id": "QqrsXxUV5pLo"
      },
      "outputs": [],
      "source": [
        "basepath = basepath[0]"
      ]
    },
    {
      "cell_type": "markdown",
      "metadata": {},
      "source": [
        "Setting Up working directories for Sentinel 1 data download and processing"
      ]
    },
    {
      "cell_type": "code",
      "execution_count": null,
      "metadata": {
        "id": "YIZ0fnnqyhXP"
      },
      "outputs": [],
      "source": [
        "download_dir = 'downloads'\n",
        "geotrasform_dir = 'geotrasform'\n",
        "s1cuts = 's1cuts2'\n",
        "mosaic = 'mosaic'\n",
        "unziped = 'unziped'\n",
        "if not os.path.exists(download_dir):\n",
        "    os.makedirs(download_dir)\n",
        "\n",
        "if not os.path.exists(s1cuts):\n",
        "    os.makedirs(s1cuts)\n",
        "\n",
        "if not os.path.exists(geotrasform_dir):\n",
        "    os.makedirs(geotrasform_dir)\n",
        "\n",
        "if not os.path.exists(mosaic):\n",
        "    os.makedirs(mosaic)\n",
        "\n",
        "if not os.path.exists(unziped):\n",
        "    os.makedirs(unziped)"
      ]
    },
    {
      "cell_type": "code",
      "execution_count": null,
      "metadata": {
        "id": "9GR0jX9j0ik1"
      },
      "outputs": [],
      "source": [
        "wkt_aoi = 'POLYGON((44.2512 -10.1035,40.4229 -10.3482,40.9201 -16.2483,35.103 -20.3073,35.6996 -24.6248,33.2137 -25.1209,33.2634 -26.9967,39.6274 -26.6862,44.2512 -10.1035))'"
      ]
    },
    {
      "cell_type": "code",
      "execution_count": null,
      "metadata": {
        "colab": {
          "base_uri": "https://localhost:8080/"
        },
        "id": "R881BSzJKCv2",
        "outputId": "b22b350b-e261-4502-d404-0f692d1b6376"
      },
      "outputs": [
        {
          "name": "stdout",
          "output_type": "stream",
          "text": [
            "Success!\n"
          ]
        }
      ],
      "source": [
        "username = 'Dercio15'\n",
        "password = '********'\n",
        "\n",
        "try:\n",
        "    user_pass_session = asf.ASFSession().auth_with_creds(username, password)\n",
        "except asf.ASFAuthenticationError as e:\n",
        "    print(f'Auth failed: {e}')\n",
        "else:\n",
        "    print('Success!')"
      ]
    },
    {
      "cell_type": "code",
      "execution_count": null,
      "metadata": {
        "id": "zvLiJTlC2htQ"
      },
      "outputs": [],
      "source": [
        "import datetime"
      ]
    },
    {
      "cell_type": "code",
      "execution_count": null,
      "metadata": {
        "id": "vxUmBNIe2Znm"
      },
      "outputs": [],
      "source": [
        "starting_date = datetime.date.today() - datetime.timedelta(days=12)\n",
        "ending_date = datetime.date.today()"
      ]
    },
    {
      "cell_type": "markdown",
      "metadata": {},
      "source": [
        "Download Sentinel 1 data"
      ]
    },
    {
      "cell_type": "code",
      "execution_count": null,
      "metadata": {
        "id": "syVkd_oB4ix1"
      },
      "outputs": [],
      "source": [
        "def downloadS1GDR(download_dir, starting_date, ending_date):\n",
        "  results = asf.geo_search(\n",
        "    intersectsWith=wkt_aoi,\n",
        "    platform= asf.PLATFORM.SENTINEL1,\n",
        "    processingLevel=[asf.PRODUCT_TYPE.GRD_HD],\n",
        "    #flightDirection=asf.FLIGHT_DIRECTION.ASCENDING,\n",
        "    beamMode=asf.BEAMMODE.IW,\n",
        "    start = starting_date,\n",
        "    end = ending_date)\n",
        "  print(f'Total Images Found: {len(results)}')\n",
        "  ### Save Metadata to a Dictionary\n",
        "  metadata = results.geojson()\n",
        "  print(\"Starting download\")\n",
        "  results.download(path=download_dir, session=user_pass_session)\n",
        "  print(\"Ending download\")\n",
        "  outfiles = []\n",
        "  for path in Path(download_dir).rglob('*.zip'):\n",
        "      outfiles.append(str(path.resolve()))\n",
        "  return outfiles, metadata"
      ]
    },
    {
      "cell_type": "code",
      "execution_count": null,
      "metadata": {
        "colab": {
          "base_uri": "https://localhost:8080/"
        },
        "id": "6xilqaO6NOYo",
        "outputId": "f7972373-6aae-4d35-a8d8-8b27b1512c13"
      },
      "outputs": [
        {
          "name": "stdout",
          "output_type": "stream",
          "text": [
            "Total Images Found: 24\n",
            "Starting download\n",
            "Ending download\n"
          ]
        }
      ],
      "source": [
        "s1gdr, metadata = downloadS1GDR(download_dir, starting_date, ending_date)"
      ]
    },
    {
      "cell_type": "code",
      "execution_count": null,
      "metadata": {
        "id": "LDvv82ep8KvI"
      },
      "outputs": [],
      "source": [
        "s1gdr"
      ]
    },
    {
      "cell_type": "markdown",
      "metadata": {},
      "source": [
        "Processing"
      ]
    },
    {
      "cell_type": "code",
      "execution_count": null,
      "metadata": {
        "id": "TL_xZmai8Q6e"
      },
      "outputs": [],
      "source": [
        "def unzips1(files, unziped):\n",
        "  S1_GDR = []\n",
        "  for file in files:\n",
        "    with zipfile.ZipFile(file, 'r') as zip_ref:\n",
        "      zip_ref.extractall(unziped)\n",
        "    print(f'{file} was uniziped with sucess')\n",
        "\n",
        "  for path in Path(unziped).rglob('*.tiff'):\n",
        "    if path.name[11:13] == 'vv':\n",
        "      S1_GDR.append(str(path.resolve()))\n",
        "  return S1_GDR"
      ]
    },
    {
      "cell_type": "code",
      "execution_count": null,
      "metadata": {
        "id": "ixQ2bAvJ9pjW"
      },
      "outputs": [],
      "source": [
        "unipeds1 = unzips1(s1gdr, unziped)"
      ]
    },
    {
      "cell_type": "code",
      "execution_count": null,
      "metadata": {
        "id": "NEeYpQgT_z2q"
      },
      "outputs": [],
      "source": [
        "unipeds1"
      ]
    },
    {
      "cell_type": "code",
      "execution_count": null,
      "metadata": {
        "id": "i3szhyk0dF7G"
      },
      "outputs": [],
      "source": [
        "import shutil"
      ]
    },
    {
      "cell_type": "code",
      "execution_count": null,
      "metadata": {
        "id": "qQK_6ft7dWYm"
      },
      "outputs": [],
      "source": [
        "shutil.rmtree(download_dir, ignore_errors=False, onerror=None)"
      ]
    },
    {
      "cell_type": "markdown",
      "metadata": {},
      "source": [
        "Convert from Radar Coordinates to UTM"
      ]
    },
    {
      "cell_type": "code",
      "execution_count": null,
      "metadata": {
        "id": "qRLBU-95dRst"
      },
      "outputs": [],
      "source": [
        "def geotransform(s1vvlist,outlocation, xres=10, yres=10, espg=\"EPSG:2736\"):\n",
        "  outlocation = outlocation+'/'\n",
        "  outlistgeo = []\n",
        "  for image in s1vvlist:\n",
        "    scene = gdal.Open(image)\n",
        "    Outname = image.split(\".t\")[0][-33:-18]\n",
        "    Outname = f\"{outlocation}S1_IW_VV_{Outname}.tif\"\n",
        "    wrp =gdal.Warp(Outname, scene, xRes = xres, yRes = yres, dstNodata =0, dstSRS = espg, outputType=gdal.GDT_UInt16)\n",
        "    scene = None\n",
        "    wrp = None\n",
        "    time.sleep(5)\n",
        "    print(f\"{Outname} geotrasformed\")\n",
        "  \n",
        "  for path in Path(outlocation).rglob('*.tif'):\n",
        "      outlistgeo.append(str(path.resolve()))\n",
        "  return outlistgeo"
      ]
    },
    {
      "cell_type": "code",
      "execution_count": null,
      "metadata": {
        "id": "WDjy2PkGC5vT"
      },
      "outputs": [],
      "source": [
        "#geocode image\n",
        "outscene = geotransform(unipeds1, geotrasform_dir)"
      ]
    },
    {
      "cell_type": "code",
      "execution_count": null,
      "metadata": {
        "id": "UrcrfsLiDHH7"
      },
      "outputs": [],
      "source": [
        "outscene"
      ]
    },
    {
      "cell_type": "code",
      "execution_count": null,
      "metadata": {
        "id": "JOlas_DWIh7D"
      },
      "outputs": [],
      "source": [
        "shutil.rmtree(unziped, ignore_errors=False, onerror=None)"
      ]
    },
    {
      "cell_type": "markdown",
      "metadata": {
        "id": "RkBUlc5QufvT"
      },
      "source": [
        "### Cut the raster in 30 iqual pieaces"
      ]
    },
    {
      "cell_type": "code",
      "execution_count": null,
      "metadata": {
        "id": "ri6YoeDKHQsI"
      },
      "outputs": [],
      "source": [
        "def cutimage(scenes, outlocation, num_cuts = 30):\n",
        "  cuttedlist = []\n",
        "\n",
        "  for outscene in scenes:\n",
        "    gdataset = gdal.Open(outscene)\n",
        "    dimensions = gdataset.GetGeoTransform()\n",
        "    #Get resolution info\n",
        "    xmin = dimensions[0]\n",
        "    ymax = dimensions[3]\n",
        "    res = dimensions[1]\n",
        "\n",
        "    #len of raster\n",
        "    xlen = res*gdataset.RasterXSize\n",
        "    ylen = res*gdataset.RasterYSize\n",
        "\n",
        "    #image lenth\n",
        "    xsize = round(xlen/num_cuts)\n",
        "    ysize = round(ylen/num_cuts)\n",
        "\n",
        "    #x and y coordinates we want to create\n",
        "    xsteps = [xmin + xsize * i for i in range(num_cuts+1)]\n",
        "    ysteps = [ymax - ysize * i for i in range(num_cuts+1)]\n",
        "\n",
        "    for i in range(num_cuts):\n",
        "      for j in range(num_cuts):\n",
        "          xmin = xsteps[i]\n",
        "          xmax = xsteps[i+1]\n",
        "          ymax = ysteps[j]\n",
        "          ymin = ysteps[j+1]\n",
        "          outscene = outscene.split('.')[0].split('/')[-1]\n",
        "          outname = f\"{outlocation}/{outscene}\"+str(i)+\"a\"+str(j)+\"b\"+\".tif\"\n",
        "          # use gdal warp\n",
        "          gdal.Warp(outname, gdataset, outputBounds = (xmin, ymin, xmax, ymax), dstNodata = 0, outputType=gdal.GDT_UInt16)\n",
        "          print(f\"{outname} cutted with success\")\n",
        "  for path in Path(outlocation).rglob('*.tif'):\n",
        "    if path.name[0:2] == 'S1':\n",
        "      cuttedlist.append(str(path.resolve()))\n",
        "  return cuttedlist"
      ]
    },
    {
      "cell_type": "code",
      "execution_count": null,
      "metadata": {
        "colab": {
          "background_save": true
        },
        "id": "GJIL2FC9KXoL"
      },
      "outputs": [],
      "source": [
        "cuts1 = cutimage(outscene, s1cuts)"
      ]
    },
    {
      "cell_type": "code",
      "execution_count": null,
      "metadata": {
        "colab": {
          "base_uri": "https://localhost:8080/"
        },
        "id": "r2iO_SevGigQ",
        "outputId": "e63fd229-b8f5-41eb-92d0-f78576fb83fd"
      },
      "outputs": [
        {
          "data": {
            "text/plain": [
              "19800"
            ]
          },
          "execution_count": 43,
          "metadata": {},
          "output_type": "execute_result"
        }
      ],
      "source": [
        "len(cuts1)"
      ]
    },
    {
      "cell_type": "markdown",
      "metadata": {
        "id": "XLU3A8NUuunP"
      },
      "source": [
        "### Processing each raster, make inference and put it in original shape and format"
      ]
    },
    {
      "cell_type": "code",
      "execution_count": null,
      "metadata": {
        "id": "GXC7mZio0mS-"
      },
      "outputs": [],
      "source": [
        "model_path = '/content/drive/MyDrive/Colab Notebooks/sarshipv30.pt'"
      ]
    },
    {
      "cell_type": "code",
      "execution_count": null,
      "metadata": {
        "colab": {
          "base_uri": "https://localhost:8080/"
        },
        "id": "Q8VXSjnP2U4D",
        "outputId": "e4687391-9fbe-4381-9a34-6b185b198193"
      },
      "outputs": [
        {
          "name": "stdout",
          "output_type": "stream",
          "text": [
            "\u001b[K     |████████████████████████████████| 62 kB 676 kB/s \n",
            "\u001b[K     |████████████████████████████████| 58 kB 5.8 MB/s \n",
            "\u001b[K     |████████████████████████████████| 78 kB 7.8 MB/s \n",
            "\u001b[K     |████████████████████████████████| 237 kB 45.7 MB/s \n",
            "\u001b[K     |████████████████████████████████| 1.6 MB 50.3 MB/s \n",
            "\u001b[K     |████████████████████████████████| 175 kB 60.2 MB/s \n",
            "\u001b[K     |████████████████████████████████| 2.2 MB 29.5 MB/s \n",
            "\u001b[K     |████████████████████████████████| 51 kB 7.0 MB/s \n",
            "\u001b[?25h  Building wheel for selectivesearch (setup.py) ... \u001b[?25l\u001b[?25hdone\n",
            "  Building wheel for sklearn (setup.py) ... \u001b[?25l\u001b[?25hdone\n",
            "  Building wheel for typing (setup.py) ... \u001b[?25l\u001b[?25hdone\n"
          ]
        }
      ],
      "source": [
        "!pip install -q --upgrade selectivesearch torch_snippets"
      ]
    },
    {
      "cell_type": "code",
      "execution_count": null,
      "metadata": {
        "id": "Hcu58J5c2W9J"
      },
      "outputs": [],
      "source": [
        "from torch_snippets import *\n",
        "from PIL import Image\n",
        "from torchvision import transforms, models, datasets\n",
        "from torch_snippets import Report\n",
        "from torchvision.ops import nms\n",
        "device = 'cuda' if torch.cuda.is_available() else 'cpu'"
      ]
    },
    {
      "cell_type": "code",
      "execution_count": null,
      "metadata": {
        "id": "b-RWFq4A2ybV"
      },
      "outputs": [],
      "source": [
        "import torchvision\n",
        "from torchvision.models.detection.faster_rcnn import FastRCNNPredictor\n",
        "\n",
        "device = 'cuda' if torch.cuda.is_available() else 'cpu'\n",
        "\n",
        "def get_model():\n",
        "    model = torchvision.models.detection.fasterrcnn_resnet50_fpn(pretrained=False)\n",
        "    in_features = model.roi_heads.box_predictor.cls_score.in_features\n",
        "    model.roi_heads.box_predictor = FastRCNNPredictor(in_features, 2)\n",
        "    return model"
      ]
    },
    {
      "cell_type": "code",
      "execution_count": null,
      "metadata": {
        "id": "DBy63QRrWT1j"
      },
      "outputs": [],
      "source": [
        "def loadmodel(model_path, device=device):\n",
        "  model = get_model().to(device)\n",
        "  model.load_state_dict(torch.load(model_path, map_location=torch.device(device)))\n",
        "  return model"
      ]
    },
    {
      "cell_type": "code",
      "execution_count": null,
      "metadata": {
        "colab": {
          "base_uri": "https://localhost:8080/",
          "height": 156,
          "referenced_widgets": [
            "e857e271f81a49d78f69a0883e696738",
            "3d0aecaaa6f64cd38c9f037f6071f4fc",
            "6a8b57a6bbfe41448d79599fad42c916",
            "5caa67c4875d4affb656b2bf195e9dde",
            "c38e23aa36d84d98a2bb238351a2cc53",
            "d1dcc1322ea6403291383f0984c2abf0",
            "3344010fd89d4526a6d7ab7371f14f95",
            "f49a21fe392744a4bc7935b91ea47858",
            "2ec70b9e53db435e874bf342c917ac15",
            "ef82d9055b144659a3bfb61e27002515",
            "b5ce2fc19d144060b9841eda24129566"
          ]
        },
        "id": "zkZwU2Cs39WF",
        "outputId": "30443d84-02dd-4cf2-951a-777796eb1441"
      },
      "outputs": [
        {
          "name": "stderr",
          "output_type": "stream",
          "text": [
            "/usr/local/lib/python3.7/dist-packages/torchvision/models/_utils.py:209: UserWarning: The parameter 'pretrained' is deprecated since 0.13 and will be removed in 0.15, please use 'weights' instead.\n",
            "  f\"The parameter '{pretrained_param}' is deprecated since 0.13 and will be removed in 0.15, \"\n",
            "/usr/local/lib/python3.7/dist-packages/torchvision/models/_utils.py:223: UserWarning: Arguments other than a weight enum or `None` for 'weights' are deprecated since 0.13 and will be removed in 0.15. The current behavior is equivalent to passing `weights=None`.\n",
            "  warnings.warn(msg)\n",
            "Downloading: \"https://download.pytorch.org/models/resnet50-0676ba61.pth\" to /root/.cache/torch/hub/checkpoints/resnet50-0676ba61.pth\n"
          ]
        },
        {
          "data": {
            "application/vnd.jupyter.widget-view+json": {
              "model_id": "e857e271f81a49d78f69a0883e696738",
              "version_major": 2,
              "version_minor": 0
            },
            "text/plain": [
              "  0%|          | 0.00/97.8M [00:00<?, ?B/s]"
            ]
          },
          "metadata": {},
          "output_type": "display_data"
        }
      ],
      "source": [
        "model = loadmodel(model_path)"
      ]
    },
    {
      "cell_type": "code",
      "execution_count": null,
      "metadata": {
        "id": "t6y1sDm26AEM"
      },
      "outputs": [],
      "source": [
        "def prepereimage(img_path):\n",
        "  img = Image.open(img_path).convert('RGB')\n",
        "  img = img.resize((800, 800), Image.BILINEAR)\n",
        "  img = np.asarray(img)\n",
        "  img = img/255.\n",
        "  img = torch.tensor(img).to(device).float()\n",
        "  img = img.permute(2, 0, 1)\n",
        "  img = img[None, :]\n",
        "  return img"
      ]
    },
    {
      "cell_type": "code",
      "execution_count": null,
      "metadata": {
        "id": "3fGWvQ_57na-"
      },
      "outputs": [],
      "source": [
        "img_path = cuts1[0]"
      ]
    },
    {
      "cell_type": "code",
      "execution_count": null,
      "metadata": {
        "id": "02D4FtDp749g"
      },
      "outputs": [],
      "source": [
        "imgTensor = prepereimage(img_path)"
      ]
    },
    {
      "cell_type": "code",
      "execution_count": null,
      "metadata": {
        "id": "-PDdeXANUc2E"
      },
      "outputs": [],
      "source": [
        "target2label ={'ship': 1, 'background': 0}"
      ]
    },
    {
      "cell_type": "code",
      "execution_count": null,
      "metadata": {
        "colab": {
          "base_uri": "https://localhost:8080/"
        },
        "id": "cF5HVjVZWDL6",
        "outputId": "5d60e95b-341c-4c95-9549-ddd5846cc36c"
      },
      "outputs": [
        {
          "data": {
            "text/plain": [
              "2"
            ]
          },
          "execution_count": 54,
          "metadata": {},
          "output_type": "execute_result"
        }
      ],
      "source": [
        "len(target2label)"
      ]
    },
    {
      "cell_type": "code",
      "execution_count": null,
      "metadata": {
        "id": "WYLC5lzTZnOw"
      },
      "outputs": [],
      "source": [
        "def predict(imgTensor, model):\n",
        "  model.eval()\n",
        "  outputs = model(imgTensor)\n",
        "  return outputs"
      ]
    },
    {
      "cell_type": "code",
      "execution_count": null,
      "metadata": {
        "id": "JrQc5uOOKHKK"
      },
      "outputs": [],
      "source": [
        "outputs = predict(imgTensor, model)"
      ]
    },
    {
      "cell_type": "code",
      "execution_count": null,
      "metadata": {
        "id": "6M5FPWmlUXtJ"
      },
      "outputs": [],
      "source": [
        "from torchvision.ops import nms\n",
        "def decode_output(output, proba_limit=0.9):\n",
        "    'convert tensors to numpy arrays'\n",
        "    bbs = output['boxes'].cpu().detach().numpy().astype(np.uint16)\n",
        "    labels = np.array(output['labels'].cpu().detach().numpy())\n",
        "    confs = output['scores'].cpu().detach().numpy()\n",
        "    #confs = np.where(confs>0.8)\n",
        "    ixs = nms(torch.tensor(bbs.astype(np.float32)), torch.tensor(confs), 0.1)\n",
        "    bbs, confs, labels = [tensor[ixs] for tensor in [bbs, confs, labels]]\n",
        "\n",
        "    if len(ixs) == 1:\n",
        "        bbs, confs, labels = [np.array([tensor]) for tensor in [bbs, confs, labels]]\n",
        "    bbs, confs, labels=bbs.tolist(), confs.tolist(), labels.tolist()\n",
        "    indices = []\n",
        "    for i in range(len(confs)):\n",
        "      if confs[i]>proba_limit:\n",
        "        indices.append(i)\n",
        "    confs = [confs[i] for i in indices]\n",
        "    bbs = [bbs[i] for i in indices]\n",
        "    labels = [labels[i] for i in indices]\n",
        "    return bbs, confs, labels"
      ]
    },
    {
      "cell_type": "code",
      "execution_count": null,
      "metadata": {
        "colab": {
          "base_uri": "https://localhost:8080/",
          "height": 233
        },
        "id": "iwKK7YMKVcah",
        "outputId": "bb13a17b-b2a5-446f-8825-83bbcada42b7"
      },
      "outputs": [],
      "source": [
        "for ix, output in enumerate(outputs):\n",
        "    bbs, confs, labels = decode_output(output)\n",
        "    info = [f'{l}@{c:.2f}' for l,c in zip(labels, confs)]\n",
        "    img = imgTensor[ix][1]*255\n",
        "    img = img.cpu().detach().numpy().astype(np.uint16)\n",
        "    #show(img.cpu(), bbs=bbs, sz=5)\n",
        "    print(bbs)\n",
        "    for i in bbs:\n",
        "      xmin, ymin, w, h = i\n",
        "      widh = int(w)\n",
        "      heigh = int(h)\n",
        "      X = int(xmin)\n",
        "      Y = int(ymin)\n",
        "      showim = cv2.rectangle(img, (X, Y), (widh, heigh), (0, 0, 255), 2)\n",
        "    #res, im_png = cv2.imencode(\".png\", showim)\n",
        "    plt.figure(figsize=(15, 20))\n",
        "    plt.imshow(showim, cmap='gray')"
      ]
    },
    {
      "cell_type": "code",
      "execution_count": null,
      "metadata": {
        "id": "kANMHdBrphwE"
      },
      "outputs": [],
      "source": [
        "def rescalebbs(bbs, img, originalsize=800):\n",
        "  bbs_res = []\n",
        "  h, w = img.shape\n",
        "  for i in bbs:\n",
        "      xmin, ymin, xmax, ymax = i\n",
        "      x_scale =  w/originalsize\n",
        "      y_scale =  h/originalsize\n",
        "\n",
        "      xmin = int(np.round(xmin*x_scale))\n",
        "      ymin =  int(np.round(ymin*y_scale))\n",
        "      xmax =  int(np.round(xmax*x_scale))\n",
        "      ymax =  int(np.round(ymax*y_scale))\n",
        "      bbs_res.append([xmin, ymin, xmax, ymax])\n",
        "  return bbs_res"
      ]
    },
    {
      "cell_type": "code",
      "execution_count": null,
      "metadata": {
        "id": "5KNLfea7fR6t"
      },
      "outputs": [],
      "source": [
        "def bboxinpixel(bbs:list, GT):\n",
        "  utmcor = []\n",
        "  for i in bbs:\n",
        "    xmin, ymin = gdal.ApplyGeoTransform(GT, i[0], i[1])\n",
        "    xmax, ymax = gdal.ApplyGeoTransform(GT, i[2], i[3])\n",
        "    utmcor.append([xmin, ymin, xmax, ymax])\n",
        "  return utmcor"
      ]
    },
    {
      "cell_type": "code",
      "execution_count": null,
      "metadata": {
        "id": "l1M5WAVgcFww"
      },
      "outputs": [],
      "source": [
        "# function to return polygon\n",
        "def utm_polygon(utmcor:list):\n",
        "  ships, polygons = [], []\n",
        "  for ix, cord in enumerate(utmcor):\n",
        "    ships.append('ship'+str(ix))\n",
        "    corner1 = [cord[0], cord[1]]\n",
        "    corner2 = [cord[2], cord[1]]\n",
        "    corner3 = [cord[2], cord[3]]\n",
        "    corner4 = [cord[0], cord[3]]\n",
        "    polygons.append(Polygon([corner1, corner2, corner3, corner4]))\n",
        "  #ds = pd.DataFrame({'ShipID': ships})\n",
        "  #dsgeo = gpd.GeoDataFrame(crs='epsg:2736', geometry=polygons)\n",
        "  return ships, polygons"
      ]
    },
    {
      "cell_type": "code",
      "execution_count": null,
      "metadata": {
        "id": "mSmHB8Mg3yK8"
      },
      "outputs": [],
      "source": [
        "import folium\n",
        "import mapclassify"
      ]
    },
    {
      "cell_type": "code",
      "execution_count": null,
      "metadata": {
        "id": "d0JIdWtO-jOI"
      },
      "outputs": [],
      "source": [
        "def PreditShip(cuttedlist):\n",
        "\n",
        "  ships_list, polygons_list, confs_list = [], [], []\n",
        "\n",
        "  model = loadmodel(model_path)\n",
        "  for images in cuttedlist:\n",
        "    ds = gdal.Open(images)\n",
        "    im = ds.GetRasterBand(1).ReadAsArray()\n",
        "    gt = ds.GetGeoTransform()\n",
        "    proj = ds.GetProjection()\n",
        "\n",
        "    #Prepare Image\n",
        "    img = prepereimage(images)\n",
        "\n",
        "    #Make predition\n",
        "    output = predict(img, model)\n",
        "\n",
        "    #process the outputs\n",
        "    for ix, output in enumerate(output):\n",
        "      try:\n",
        "        bbs, confs, labels = decode_output(output)\n",
        "\n",
        "        #Rescale bbs for original image\n",
        "        bbs_res = rescalebbs(bbs, im)\n",
        "\n",
        "        #convert pixel coordinates to utm coordinates\n",
        "        utmcoor = bboxinpixel(bbs_res, gt)\n",
        "\n",
        "        #generate coordinates \n",
        "        ships, polygons = utm_polygon(utmcoor)\n",
        "\n",
        "        #save values to a list\n",
        "        ships_list.append(ships)\n",
        "        polygons_list.append(polygons)\n",
        "        confs_list.append(confs)\n",
        "      except:\n",
        "        print('couldnt process')\n",
        "  return ships_list, polygons_list, confs_list"
      ]
    },
    {
      "cell_type": "code",
      "execution_count": null,
      "metadata": {
        "id": "Dv_zyJUsIcw-"
      },
      "outputs": [],
      "source": [
        "ships_list, polygons_list, confs_list = PreditShip(cuts1)"
      ]
    },
    {
      "cell_type": "code",
      "execution_count": null,
      "metadata": {
        "id": "MvYiC-t8ZGg3"
      },
      "outputs": [],
      "source": [
        "def processpolygons(polygons_list, confs_list):\n",
        "  poli = []\n",
        "  for i in polygons_list:\n",
        "    for j in i:\n",
        "      poli.append(j)\n",
        "  dsgeo = gpd.GeoDataFrame(crs='epsg:2736', geometry=poli)\n",
        "\n",
        "  confs = []\n",
        "  for i in confs_list:\n",
        "    for j in i:\n",
        "      confs.append(j)\n",
        "  dsgeo['probability'] = confs\n",
        "  return dsgeo"
      ]
    },
    {
      "cell_type": "code",
      "execution_count": null,
      "metadata": {
        "id": "h7SuhBEhZyEY"
      },
      "outputs": [],
      "source": [
        "dsgeo = processpolygons(polygons_list, confs_list)"
      ]
    },
    {
      "cell_type": "code",
      "execution_count": null,
      "metadata": {
        "id": "TRXNONc1bsGt"
      },
      "outputs": [],
      "source": [
        "dsgeo.head()"
      ]
    },
    {
      "cell_type": "code",
      "execution_count": null,
      "metadata": {
        "id": "FfZ0Yeh4cokl"
      },
      "outputs": [],
      "source": [
        "dsgeo.shape"
      ]
    },
    {
      "cell_type": "code",
      "execution_count": null,
      "metadata": {
        "colab": {
          "base_uri": "https://localhost:8080/",
          "height": 200
        },
        "id": "0Ys1zXdDaAiJ",
        "outputId": "c065dd1c-6a73-4eb5-da14-408eb0c0abb5"
      },
      "outputs": [],
      "source": [
        "df = dsgeo.to_crs(epsg=4326)\n",
        "print(df.crs)\n",
        "df.head()"
      ]
    },
    {
      "cell_type": "code",
      "execution_count": null,
      "metadata": {
        "id": "VnN9QeC9b7t8"
      },
      "outputs": [],
      "source": [
        "m = folium.Map(location=[-26.8, 32.4], zoom_start=10, tiles='CartoDB positron')\n",
        "folium.GeoJson(df).add_to(m)\n",
        "folium.LatLngPopup().add_to(m)\n",
        "m"
      ]
    },
    {
      "cell_type": "markdown",
      "metadata": {
        "id": "9v6IIFQVvTw2"
      },
      "source": [
        "## Mosaic the cutted Raster to it original form"
      ]
    },
    {
      "cell_type": "code",
      "execution_count": null,
      "metadata": {
        "id": "tdcVi6K0NqGl"
      },
      "outputs": [],
      "source": [
        "import glob"
      ]
    },
    {
      "cell_type": "code",
      "execution_count": null,
      "metadata": {
        "id": "9gRkijK2eBji"
      },
      "outputs": [],
      "source": [
        "l = os.listdir('geotrasform')"
      ]
    },
    {
      "cell_type": "code",
      "execution_count": null,
      "metadata": {
        "colab": {
          "base_uri": "https://localhost:8080/",
          "height": 217
        },
        "id": "JpvvUldQf485",
        "outputId": "5385bbd5-319d-466b-b99c-aaae27484d98"
      },
      "outputs": [],
      "source": [
        "sc =[]\n",
        "for i in l:\n",
        "  n = 'geotrasform/'+i\n",
        "  sc.append(n)"
      ]
    },
    {
      "cell_type": "code",
      "execution_count": null,
      "metadata": {
        "id": "4tuO7ToKfpD8"
      },
      "outputs": [],
      "source": [
        "ds = gdal.Open(sc[3])\n",
        "arr = ds.GetRasterBand(1).ReadAsArray()"
      ]
    },
    {
      "cell_type": "code",
      "execution_count": null,
      "metadata": {
        "id": "IhUvB7tSgUfN"
      },
      "outputs": [],
      "source": [
        "vmin = np.percentile(arr.flatten(), 5)\n",
        "vmax = np.percentile(arr.flatten(), 95)"
      ]
    },
    {
      "cell_type": "code",
      "execution_count": null,
      "metadata": {
        "id": "xH7MrsgkgaSh"
      },
      "outputs": [],
      "source": [
        "plt.figure(figsize=(14, 12), dpi=80)\n",
        "plt.imshow(arr,vmin=vmin, vmax=vmax, cmap='gray')\n",
        "#plt.colorbar()\n",
        "plt.show()"
      ]
    },
    {
      "cell_type": "code",
      "execution_count": null,
      "metadata": {
        "id": "RHWjuYQ3nwid"
      },
      "outputs": [],
      "source": [
        "def mergescenes(scenelist,outname, xres=10, yres=10):\n",
        "  vrt_name=f\"{outname}/S1_IW_VV_{str(datetime.datetime.now())}.vrt\"\n",
        "  vrt = gdal.BuildVRT(vrt_name, scenelist)\n",
        "  outname = f\"{outname}/S1_IW_VV_Merge{str(datetime.datetime.now())}.tif\"\n",
        "  gdal.Translate(outname, vrt, xRes = xres, yRes = yres, noData=0, outputType=gdal.GDT_UInt16)\n",
        "  vrt = None\n",
        "  time.sleep(10)\n",
        "  return outname"
      ]
    },
    {
      "cell_type": "code",
      "execution_count": null,
      "metadata": {
        "id": "Qg1l7zP_3tTp"
      },
      "outputs": [],
      "source": [
        "name = mergescenes(sc, 'mosaic')"
      ]
    },
    {
      "cell_type": "code",
      "execution_count": null,
      "metadata": {
        "id": "bSAJEkwO5Mz1"
      },
      "outputs": [],
      "source": [
        "name = '/content/mosaic/S1_IW_VV_Merge2022-10-04 12:03:17.765251.tif'"
      ]
    },
    {
      "cell_type": "code",
      "execution_count": null,
      "metadata": {
        "id": "66HUxx8036vl"
      },
      "outputs": [],
      "source": [
        "ds_1 = gdal.Open(name)\n",
        "array_ = ds_1.GetRasterBand(1).ReadAsArray()\n",
        "gt_1 = ds_1.GetGeoTransform()\n",
        "proj_1 = ds_1.GetProjection()"
      ]
    },
    {
      "cell_type": "code",
      "execution_count": null,
      "metadata": {
        "colab": {
          "base_uri": "https://localhost:8080/",
          "height": 165
        },
        "id": "3hos4rb65c03",
        "outputId": "00610a33-0cf4-41d9-d893-d9cae1c62cb6"
      },
      "outputs": [],
      "source": [
        "array_.shape"
      ]
    },
    {
      "cell_type": "code",
      "execution_count": null,
      "metadata": {
        "id": "GCBTF_sa5bs-"
      },
      "outputs": [],
      "source": [
        "array_2 = cv2.resize(array_, dsize=(4277, 5294), interpolation=cv2.INTER_CUBIC)"
      ]
    },
    {
      "cell_type": "code",
      "execution_count": null,
      "metadata": {
        "id": "SrlzO5GvCgDO"
      },
      "outputs": [],
      "source": [
        "vmin = np.percentile(array_2.flatten(), 5)\n",
        "vmax = np.percentile(array_2.flatten(), 95)"
      ]
    },
    {
      "cell_type": "code",
      "execution_count": null,
      "metadata": {
        "id": "_a9uE1VyXUZ0"
      },
      "outputs": [],
      "source": [
        "plt.figure(figsize=(15, 20))\n",
        "plt.imshow(array_2,vmin=vmin, vmax=vmax, cmap='gray')\n",
        "#plt.colorbar()\n",
        "plt.show()"
      ]
    },
    {
      "cell_type": "markdown",
      "metadata": {
        "id": "fEbRndooJ2E7"
      },
      "source": [
        "# Generate Tiles"
      ]
    },
    {
      "cell_type": "code",
      "execution_count": null,
      "metadata": {
        "id": "ZQ3Luz6vJbRL"
      },
      "outputs": [],
      "source": [
        "pip install gdal2tiles"
      ]
    },
    {
      "cell_type": "code",
      "execution_count": null,
      "metadata": {
        "id": "wELw9dNfJcUD"
      },
      "outputs": [],
      "source": [
        "!gdal2tiles.py -help"
      ]
    },
    {
      "cell_type": "code",
      "execution_count": null,
      "metadata": {
        "id": "j3qRd85iJpwu"
      },
      "outputs": [],
      "source": [
        "import gdal2tiles"
      ]
    },
    {
      "cell_type": "code",
      "execution_count": null,
      "metadata": {
        "id": "heiys9dP61z5"
      },
      "outputs": [],
      "source": [
        "source_path = \"Enter Source Path here\"\n",
        "destination_path = \"Enter Source Path here\""
      ]
    },
    {
      "cell_type": "code",
      "execution_count": null,
      "metadata": {
        "id": "n5tXLggdKI5x"
      },
      "outputs": [],
      "source": [
        "def create_tiles(source_path, destination_path):\n",
        "  \"\"\"\n",
        "  Method to generate tiles at different zoom levels using gdal2tiles library.\n",
        "  Args:\n",
        "  source_path : path for the source file which needs to be tiled\n",
        "  destination_path : path for the output directory where the tiles will be generated\n",
        "  \"\"\"\n",
        "  options = {'zoom': 16,\n",
        "        'nb_processes': 4,\n",
        "        'tile_size': 256,\n",
        "        'srs':'EPSG:4326'\n",
        "        }\n",
        "  gdal2tiles.generate_tiles(source_path, destination_path, **options)"
      ]
    },
    {
      "cell_type": "code",
      "execution_count": null,
      "metadata": {
        "id": "sLJDcsHY6w7I"
      },
      "outputs": [],
      "source": [
        "create_tiles(source_path, destination_path)"
      ]
    }
  ],
  "metadata": {
    "colab": {
      "collapsed_sections": [],
      "provenance": []
    },
    "kernelspec": {
      "display_name": "Python 3.9.12 ('base')",
      "language": "python",
      "name": "python3"
    },
    "language_info": {
      "name": "python",
      "version": "3.9.12"
    },
    "vscode": {
      "interpreter": {
        "hash": "822b0389d2caaf26550f976c66153bec6417e9f602767dce3c256832083f7086"
      }
    },
    "widgets": {
      "application/vnd.jupyter.widget-state+json": {
        "2ec70b9e53db435e874bf342c917ac15": {
          "model_module": "@jupyter-widgets/controls",
          "model_module_version": "1.5.0",
          "model_name": "ProgressStyleModel",
          "state": {
            "_model_module": "@jupyter-widgets/controls",
            "_model_module_version": "1.5.0",
            "_model_name": "ProgressStyleModel",
            "_view_count": null,
            "_view_module": "@jupyter-widgets/base",
            "_view_module_version": "1.2.0",
            "_view_name": "StyleView",
            "bar_color": null,
            "description_width": ""
          }
        },
        "3344010fd89d4526a6d7ab7371f14f95": {
          "model_module": "@jupyter-widgets/controls",
          "model_module_version": "1.5.0",
          "model_name": "DescriptionStyleModel",
          "state": {
            "_model_module": "@jupyter-widgets/controls",
            "_model_module_version": "1.5.0",
            "_model_name": "DescriptionStyleModel",
            "_view_count": null,
            "_view_module": "@jupyter-widgets/base",
            "_view_module_version": "1.2.0",
            "_view_name": "StyleView",
            "description_width": ""
          }
        },
        "3d0aecaaa6f64cd38c9f037f6071f4fc": {
          "model_module": "@jupyter-widgets/controls",
          "model_module_version": "1.5.0",
          "model_name": "HTMLModel",
          "state": {
            "_dom_classes": [],
            "_model_module": "@jupyter-widgets/controls",
            "_model_module_version": "1.5.0",
            "_model_name": "HTMLModel",
            "_view_count": null,
            "_view_module": "@jupyter-widgets/controls",
            "_view_module_version": "1.5.0",
            "_view_name": "HTMLView",
            "description": "",
            "description_tooltip": null,
            "layout": "IPY_MODEL_d1dcc1322ea6403291383f0984c2abf0",
            "placeholder": "​",
            "style": "IPY_MODEL_3344010fd89d4526a6d7ab7371f14f95",
            "value": "100%"
          }
        },
        "5caa67c4875d4affb656b2bf195e9dde": {
          "model_module": "@jupyter-widgets/controls",
          "model_module_version": "1.5.0",
          "model_name": "HTMLModel",
          "state": {
            "_dom_classes": [],
            "_model_module": "@jupyter-widgets/controls",
            "_model_module_version": "1.5.0",
            "_model_name": "HTMLModel",
            "_view_count": null,
            "_view_module": "@jupyter-widgets/controls",
            "_view_module_version": "1.5.0",
            "_view_name": "HTMLView",
            "description": "",
            "description_tooltip": null,
            "layout": "IPY_MODEL_ef82d9055b144659a3bfb61e27002515",
            "placeholder": "​",
            "style": "IPY_MODEL_b5ce2fc19d144060b9841eda24129566",
            "value": " 97.8M/97.8M [00:01&lt;00:00, 73.3MB/s]"
          }
        },
        "6a8b57a6bbfe41448d79599fad42c916": {
          "model_module": "@jupyter-widgets/controls",
          "model_module_version": "1.5.0",
          "model_name": "FloatProgressModel",
          "state": {
            "_dom_classes": [],
            "_model_module": "@jupyter-widgets/controls",
            "_model_module_version": "1.5.0",
            "_model_name": "FloatProgressModel",
            "_view_count": null,
            "_view_module": "@jupyter-widgets/controls",
            "_view_module_version": "1.5.0",
            "_view_name": "ProgressView",
            "bar_style": "success",
            "description": "",
            "description_tooltip": null,
            "layout": "IPY_MODEL_f49a21fe392744a4bc7935b91ea47858",
            "max": 102530333,
            "min": 0,
            "orientation": "horizontal",
            "style": "IPY_MODEL_2ec70b9e53db435e874bf342c917ac15",
            "value": 102530333
          }
        },
        "b5ce2fc19d144060b9841eda24129566": {
          "model_module": "@jupyter-widgets/controls",
          "model_module_version": "1.5.0",
          "model_name": "DescriptionStyleModel",
          "state": {
            "_model_module": "@jupyter-widgets/controls",
            "_model_module_version": "1.5.0",
            "_model_name": "DescriptionStyleModel",
            "_view_count": null,
            "_view_module": "@jupyter-widgets/base",
            "_view_module_version": "1.2.0",
            "_view_name": "StyleView",
            "description_width": ""
          }
        },
        "c38e23aa36d84d98a2bb238351a2cc53": {
          "model_module": "@jupyter-widgets/base",
          "model_module_version": "1.2.0",
          "model_name": "LayoutModel",
          "state": {
            "_model_module": "@jupyter-widgets/base",
            "_model_module_version": "1.2.0",
            "_model_name": "LayoutModel",
            "_view_count": null,
            "_view_module": "@jupyter-widgets/base",
            "_view_module_version": "1.2.0",
            "_view_name": "LayoutView",
            "align_content": null,
            "align_items": null,
            "align_self": null,
            "border": null,
            "bottom": null,
            "display": null,
            "flex": null,
            "flex_flow": null,
            "grid_area": null,
            "grid_auto_columns": null,
            "grid_auto_flow": null,
            "grid_auto_rows": null,
            "grid_column": null,
            "grid_gap": null,
            "grid_row": null,
            "grid_template_areas": null,
            "grid_template_columns": null,
            "grid_template_rows": null,
            "height": null,
            "justify_content": null,
            "justify_items": null,
            "left": null,
            "margin": null,
            "max_height": null,
            "max_width": null,
            "min_height": null,
            "min_width": null,
            "object_fit": null,
            "object_position": null,
            "order": null,
            "overflow": null,
            "overflow_x": null,
            "overflow_y": null,
            "padding": null,
            "right": null,
            "top": null,
            "visibility": null,
            "width": null
          }
        },
        "d1dcc1322ea6403291383f0984c2abf0": {
          "model_module": "@jupyter-widgets/base",
          "model_module_version": "1.2.0",
          "model_name": "LayoutModel",
          "state": {
            "_model_module": "@jupyter-widgets/base",
            "_model_module_version": "1.2.0",
            "_model_name": "LayoutModel",
            "_view_count": null,
            "_view_module": "@jupyter-widgets/base",
            "_view_module_version": "1.2.0",
            "_view_name": "LayoutView",
            "align_content": null,
            "align_items": null,
            "align_self": null,
            "border": null,
            "bottom": null,
            "display": null,
            "flex": null,
            "flex_flow": null,
            "grid_area": null,
            "grid_auto_columns": null,
            "grid_auto_flow": null,
            "grid_auto_rows": null,
            "grid_column": null,
            "grid_gap": null,
            "grid_row": null,
            "grid_template_areas": null,
            "grid_template_columns": null,
            "grid_template_rows": null,
            "height": null,
            "justify_content": null,
            "justify_items": null,
            "left": null,
            "margin": null,
            "max_height": null,
            "max_width": null,
            "min_height": null,
            "min_width": null,
            "object_fit": null,
            "object_position": null,
            "order": null,
            "overflow": null,
            "overflow_x": null,
            "overflow_y": null,
            "padding": null,
            "right": null,
            "top": null,
            "visibility": null,
            "width": null
          }
        },
        "e857e271f81a49d78f69a0883e696738": {
          "model_module": "@jupyter-widgets/controls",
          "model_module_version": "1.5.0",
          "model_name": "HBoxModel",
          "state": {
            "_dom_classes": [],
            "_model_module": "@jupyter-widgets/controls",
            "_model_module_version": "1.5.0",
            "_model_name": "HBoxModel",
            "_view_count": null,
            "_view_module": "@jupyter-widgets/controls",
            "_view_module_version": "1.5.0",
            "_view_name": "HBoxView",
            "box_style": "",
            "children": [
              "IPY_MODEL_3d0aecaaa6f64cd38c9f037f6071f4fc",
              "IPY_MODEL_6a8b57a6bbfe41448d79599fad42c916",
              "IPY_MODEL_5caa67c4875d4affb656b2bf195e9dde"
            ],
            "layout": "IPY_MODEL_c38e23aa36d84d98a2bb238351a2cc53"
          }
        },
        "ef82d9055b144659a3bfb61e27002515": {
          "model_module": "@jupyter-widgets/base",
          "model_module_version": "1.2.0",
          "model_name": "LayoutModel",
          "state": {
            "_model_module": "@jupyter-widgets/base",
            "_model_module_version": "1.2.0",
            "_model_name": "LayoutModel",
            "_view_count": null,
            "_view_module": "@jupyter-widgets/base",
            "_view_module_version": "1.2.0",
            "_view_name": "LayoutView",
            "align_content": null,
            "align_items": null,
            "align_self": null,
            "border": null,
            "bottom": null,
            "display": null,
            "flex": null,
            "flex_flow": null,
            "grid_area": null,
            "grid_auto_columns": null,
            "grid_auto_flow": null,
            "grid_auto_rows": null,
            "grid_column": null,
            "grid_gap": null,
            "grid_row": null,
            "grid_template_areas": null,
            "grid_template_columns": null,
            "grid_template_rows": null,
            "height": null,
            "justify_content": null,
            "justify_items": null,
            "left": null,
            "margin": null,
            "max_height": null,
            "max_width": null,
            "min_height": null,
            "min_width": null,
            "object_fit": null,
            "object_position": null,
            "order": null,
            "overflow": null,
            "overflow_x": null,
            "overflow_y": null,
            "padding": null,
            "right": null,
            "top": null,
            "visibility": null,
            "width": null
          }
        },
        "f49a21fe392744a4bc7935b91ea47858": {
          "model_module": "@jupyter-widgets/base",
          "model_module_version": "1.2.0",
          "model_name": "LayoutModel",
          "state": {
            "_model_module": "@jupyter-widgets/base",
            "_model_module_version": "1.2.0",
            "_model_name": "LayoutModel",
            "_view_count": null,
            "_view_module": "@jupyter-widgets/base",
            "_view_module_version": "1.2.0",
            "_view_name": "LayoutView",
            "align_content": null,
            "align_items": null,
            "align_self": null,
            "border": null,
            "bottom": null,
            "display": null,
            "flex": null,
            "flex_flow": null,
            "grid_area": null,
            "grid_auto_columns": null,
            "grid_auto_flow": null,
            "grid_auto_rows": null,
            "grid_column": null,
            "grid_gap": null,
            "grid_row": null,
            "grid_template_areas": null,
            "grid_template_columns": null,
            "grid_template_rows": null,
            "height": null,
            "justify_content": null,
            "justify_items": null,
            "left": null,
            "margin": null,
            "max_height": null,
            "max_width": null,
            "min_height": null,
            "min_width": null,
            "object_fit": null,
            "object_position": null,
            "order": null,
            "overflow": null,
            "overflow_x": null,
            "overflow_y": null,
            "padding": null,
            "right": null,
            "top": null,
            "visibility": null,
            "width": null
          }
        }
      }
    }
  },
  "nbformat": 4,
  "nbformat_minor": 0
}
